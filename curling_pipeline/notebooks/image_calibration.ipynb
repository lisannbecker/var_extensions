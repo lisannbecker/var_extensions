{
 "cells": [
  {
   "cell_type": "code",
   "id": "initial_id",
   "metadata": {
    "collapsed": true,
    "ExecuteTime": {
     "end_time": "2024-11-12T15:34:47.600249Z",
     "start_time": "2024-11-12T15:34:47.462386Z"
    }
   },
   "source": [
    "import numpy as np\n",
    "import cv2 as cv\n",
    "import glob\n",
    "import os"
   ],
   "outputs": [],
   "execution_count": 1
  },
  {
   "metadata": {
    "ExecuteTime": {
     "end_time": "2024-11-12T15:34:48.192023Z",
     "start_time": "2024-11-12T15:34:48.188102Z"
    }
   },
   "cell_type": "code",
   "source": "criteria = (cv.TERM_CRITERIA_EPS + cv.TERM_CRITERIA_MAX_ITER, 30, 0.001)",
   "id": "bdb4e11a007c14d9",
   "outputs": [],
   "execution_count": 2
  },
  {
   "metadata": {
    "ExecuteTime": {
     "end_time": "2024-11-12T15:34:48.525505Z",
     "start_time": "2024-11-12T15:34:48.519751Z"
    }
   },
   "cell_type": "code",
   "source": "image_files = glob.glob(\"calib_imgs/*.png\")",
   "id": "76f438cb74293bf6",
   "outputs": [],
   "execution_count": 3
  },
  {
   "metadata": {
    "ExecuteTime": {
     "end_time": "2024-11-12T15:34:49.440089Z",
     "start_time": "2024-11-12T15:34:49.432443Z"
    }
   },
   "cell_type": "code",
   "source": "len(image_files)",
   "id": "60012428fdc4ad8e",
   "outputs": [
    {
     "data": {
      "text/plain": [
       "99"
      ]
     },
     "execution_count": 4,
     "metadata": {},
     "output_type": "execute_result"
    }
   ],
   "execution_count": 4
  },
  {
   "metadata": {
    "ExecuteTime": {
     "end_time": "2024-11-12T15:26:14.654532Z",
     "start_time": "2024-11-12T15:26:14.649795Z"
    }
   },
   "cell_type": "code",
   "source": [
    "obj_point = np.zeros((8*5, 3), np.float32)\n",
    "grid = np.mgrid[0:8,0:5]\n",
    "obj_point[:,:2] = grid.T.reshape(-1,2)\n"
   ],
   "id": "5e45a3919998b3db",
   "outputs": [],
   "execution_count": 21
  },
  {
   "metadata": {
    "ExecuteTime": {
     "end_time": "2024-11-12T15:34:51.712422Z",
     "start_time": "2024-11-12T15:34:51.708485Z"
    }
   },
   "cell_type": "code",
   "source": [
    "chessboard_size = (8,5)\n",
    "square_size = 3.0"
   ],
   "id": "1235cde8b03044ed",
   "outputs": [],
   "execution_count": 5
  },
  {
   "metadata": {
    "ExecuteTime": {
     "end_time": "2024-11-12T15:35:39.044121Z",
     "start_time": "2024-11-12T15:35:39.038920Z"
    }
   },
   "cell_type": "code",
   "source": [
    "obj_point = np.zeros((chessboard_size[0] * chessboard_size[1], 3), np.float32)\n",
    "obj_point[:, :2] = np.mgrid[0:chessboard_size[0], 0:chessboard_size[1]].T.reshape(-1, 2)\n",
    "obj_point = obj_point * square_size "
   ],
   "id": "b019e169eda36ae1",
   "outputs": [],
   "execution_count": 9
  },
  {
   "metadata": {
    "ExecuteTime": {
     "end_time": "2024-11-12T15:35:39.886471Z",
     "start_time": "2024-11-12T15:35:39.881893Z"
    }
   },
   "cell_type": "code",
   "source": [
    "obj_points = []\n",
    "img_points = []"
   ],
   "id": "d634242536b04462",
   "outputs": [],
   "execution_count": 10
  },
  {
   "metadata": {
    "ExecuteTime": {
     "end_time": "2024-11-12T15:36:32.637227Z",
     "start_time": "2024-11-12T15:35:40.609161Z"
    }
   },
   "cell_type": "code",
   "source": [
    "for filename in image_files:\n",
    "    img = cv.imread(filename)\n",
    "    gray = cv.cvtColor(img, cv.COLOR_BGR2GRAY)\n",
    " \n",
    "    # Find the chess board corners\n",
    "    ret, corners = cv.findChessboardCorners(gray, (8,5), None)\n",
    " \n",
    "    # If found, add object points, image points (after refining them)\n",
    "    if ret == True:\n",
    "        obj_points.append(obj_point)\n",
    " \n",
    "        #corners2 = cv.cornerSubPix(gray,corners, (11,11), (-1,-1), None)\n",
    "        img_points.append(corners)\n",
    " \n",
    "        # Draw and display the corners\n",
    "        cv.drawChessboardCorners(img, (8,5), corners, ret)\n",
    "        cv.imshow('img', img)\n",
    "        cv.waitKey(500)\n",
    "cv.destroyAllWindows()"
   ],
   "id": "c4d0ad7894e0b817",
   "outputs": [],
   "execution_count": 11
  },
  {
   "metadata": {
    "jupyter": {
     "is_executing": true
    },
    "ExecuteTime": {
     "start_time": "2024-11-12T15:36:32.638223Z"
    }
   },
   "cell_type": "code",
   "source": "ret, mtx, dist, rvecs, tvecs = cv.calibrateCamera(obj_points, img_points, gray.shape[::-1], None, None)",
   "id": "a35238e00c9b3ccf",
   "outputs": [],
   "execution_count": null
  },
  {
   "metadata": {
    "jupyter": {
     "is_executing": true
    }
   },
   "cell_type": "code",
   "source": [
    "np.savetxt(fname=\"dist\",X=dist)\n",
    "np.savetxt(fname=\"mtx\",X=mtx)"
   ],
   "id": "ca0fea4cef73c914",
   "outputs": [],
   "execution_count": null
  },
  {
   "metadata": {
    "jupyter": {
     "is_executing": true
    }
   },
   "cell_type": "code",
   "source": [
    "for filename in image_files:\n",
    "    img = cv.imread(filename)\n",
    "    h,  w = img.shape[:2]\n",
    "    newcameramtx, roi = cv.getOptimalNewCameraMatrix(mtx, dist, (w,h), 1, (w,h))\n",
    "    dst = cv.undistort(img, mtx, dist, None, newcameramtx)\n",
    " \n",
    "    # crop the image\n",
    "    x, y, w, h = roi\n",
    "    dst = dst[y:y+h, x:x+w]\n",
    "    cv.imwrite('calibresult/'+filename[16:], dst)\n",
    "    "
   ],
   "id": "5763423416b251a6",
   "outputs": [],
   "execution_count": null
  },
  {
   "metadata": {},
   "cell_type": "code",
   "outputs": [],
   "execution_count": null,
   "source": "",
   "id": "385bdbdece3907c4"
  }
 ],
 "metadata": {
  "kernelspec": {
   "display_name": "Python 3",
   "language": "python",
   "name": "python3"
  },
  "language_info": {
   "codemirror_mode": {
    "name": "ipython",
    "version": 2
   },
   "file_extension": ".py",
   "mimetype": "text/x-python",
   "name": "python",
   "nbconvert_exporter": "python",
   "pygments_lexer": "ipython2",
   "version": "2.7.6"
  }
 },
 "nbformat": 4,
 "nbformat_minor": 5
}
