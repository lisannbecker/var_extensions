{
 "cells": [
  {
   "cell_type": "code",
   "execution_count": 28,
   "id": "initial_id",
   "metadata": {
    "ExecuteTime": {
     "end_time": "2024-11-12T15:34:47.600249Z",
     "start_time": "2024-11-12T15:34:47.462386Z"
    },
    "collapsed": true
   },
   "outputs": [],
   "source": [
    "import numpy as np\n",
    "import cv2 as cv\n",
    "import glob\n",
    "import os"
   ]
  },
  {
   "cell_type": "code",
   "execution_count": 29,
   "id": "bdb4e11a007c14d9",
   "metadata": {
    "ExecuteTime": {
     "end_time": "2024-11-12T15:34:48.192023Z",
     "start_time": "2024-11-12T15:34:48.188102Z"
    }
   },
   "outputs": [],
   "source": [
    "criteria = (cv.TERM_CRITERIA_EPS + cv.TERM_CRITERIA_MAX_ITER, 30, 0.001)"
   ]
  },
  {
   "cell_type": "code",
   "execution_count": 30,
   "id": "76f438cb74293bf6",
   "metadata": {
    "ExecuteTime": {
     "end_time": "2024-11-12T15:34:48.525505Z",
     "start_time": "2024-11-12T15:34:48.519751Z"
    }
   },
   "outputs": [],
   "source": [
    "image_files = glob.glob(\"images_2024-11-23_18-13_rae_right_image_raw/*.jpg\")"
   ]
  },
  {
   "cell_type": "code",
   "execution_count": 31,
   "id": "60012428fdc4ad8e",
   "metadata": {
    "ExecuteTime": {
     "end_time": "2024-11-12T15:34:49.440089Z",
     "start_time": "2024-11-12T15:34:49.432443Z"
    }
   },
   "outputs": [
    {
     "data": {
      "text/plain": [
       "254"
      ]
     },
     "execution_count": 31,
     "metadata": {},
     "output_type": "execute_result"
    }
   ],
   "source": [
    "len(image_files)"
   ]
  },
  {
   "cell_type": "code",
   "execution_count": 32,
   "id": "5e45a3919998b3db",
   "metadata": {
    "ExecuteTime": {
     "end_time": "2024-11-12T15:26:14.654532Z",
     "start_time": "2024-11-12T15:26:14.649795Z"
    }
   },
   "outputs": [],
   "source": [
    "obj_point = np.zeros((8*5, 3), np.float32)\n",
    "grid = np.mgrid[0:8,0:5]\n",
    "obj_point[:,:2] = grid.T.reshape(-1,2)\n"
   ]
  },
  {
   "cell_type": "code",
   "execution_count": 41,
   "id": "1235cde8b03044ed",
   "metadata": {
    "ExecuteTime": {
     "end_time": "2024-11-12T15:34:51.712422Z",
     "start_time": "2024-11-12T15:34:51.708485Z"
    }
   },
   "outputs": [],
   "source": [
    "chessboard_size = (8,5)\n",
    "square_size = 2.6"
   ]
  },
  {
   "cell_type": "code",
   "execution_count": 42,
   "id": "b019e169eda36ae1",
   "metadata": {
    "ExecuteTime": {
     "end_time": "2024-11-12T15:35:39.044121Z",
     "start_time": "2024-11-12T15:35:39.038920Z"
    }
   },
   "outputs": [],
   "source": [
    "obj_point = np.zeros((chessboard_size[0] * chessboard_size[1], 3), np.float32)\n",
    "obj_point[:, :2] = np.mgrid[0:chessboard_size[0], 0:chessboard_size[1]].T.reshape(-1, 2)\n",
    "obj_point = obj_point * square_size "
   ]
  },
  {
   "cell_type": "code",
   "execution_count": 43,
   "id": "d634242536b04462",
   "metadata": {
    "ExecuteTime": {
     "end_time": "2024-11-12T15:35:39.886471Z",
     "start_time": "2024-11-12T15:35:39.881893Z"
    }
   },
   "outputs": [],
   "source": [
    "obj_points = []\n",
    "img_points = []"
   ]
  },
  {
   "cell_type": "code",
   "execution_count": 45,
   "id": "c4d0ad7894e0b817",
   "metadata": {
    "ExecuteTime": {
     "end_time": "2024-11-12T15:36:32.637227Z",
     "start_time": "2024-11-12T15:35:40.609161Z"
    }
   },
   "outputs": [],
   "source": [
    "for filename in image_files:\n",
    "    img = cv.imread(filename)\n",
    "    gray = cv.cvtColor(img, cv.COLOR_BGR2GRAY)\n",
    " \n",
    "    # Find the chess board corners\n",
    "    ret, corners = cv.findChessboardCorners(gray, (8,5), None)\n",
    " \n",
    "    # If found, add object points, image points (after refining them)\n",
    "    if ret == True:\n",
    "        obj_points.append(obj_point)\n",
    " \n",
    "        #corners2 = cv.cornerSubPix(gray,corners, (11,11), (-1,-1), None)\n",
    "        img_points.append(corners)\n",
    " \n",
    "        # Draw and display the corners\n",
    "        cv.drawChessboardCorners(img, (8,5), corners, ret)\n",
    "        cv.imshow('img', img)\n",
    "        # cv.waitKey(500)\n",
    "cv.destroyAllWindows()"
   ]
  },
  {
   "cell_type": "code",
   "execution_count": 46,
   "id": "a35238e00c9b3ccf",
   "metadata": {
    "ExecuteTime": {
     "start_time": "2024-11-12T15:36:32.638223Z"
    },
    "jupyter": {
     "is_executing": true
    }
   },
   "outputs": [],
   "source": [
    "ret, mtx, dist, rvecs, tvecs = cv.calibrateCamera(obj_points, img_points, gray.shape[::-1], None, None)"
   ]
  },
  {
   "cell_type": "code",
   "execution_count": 47,
   "id": "ca0fea4cef73c914",
   "metadata": {
    "jupyter": {
     "is_executing": true
    }
   },
   "outputs": [],
   "source": [
    "np.savetxt(fname=\"dist_new\",X=dist)\n",
    "np.savetxt(fname=\"mtx_new\",X=mtx)"
   ]
  },
  {
   "cell_type": "code",
   "execution_count": 66,
   "id": "5763423416b251a6",
   "metadata": {
    "jupyter": {
     "is_executing": true
    }
   },
   "outputs": [
    {
     "name": "stdout",
     "output_type": "stream",
     "text": [
      "(1046, 523)\r"
     ]
    }
   ],
   "source": [
    "from PIL import Image\n",
    "for i, filename in enumerate(image_files):\n",
    "    img = cv.imread(filename)\n",
    "    # print(filename, img)\n",
    "    h,  w = img.shape[:2]\n",
    "    newcameramtx, roi = cv.getOptimalNewCameraMatrix(mtx, dist, (w,h), 1, (w,h))\n",
    "    dst = cv.undistort(img, mtx, dist, None, newcameramtx)\n",
    " \n",
    "    # crop the image\n",
    "    x, y, w, h = roi\n",
    "    dst = dst[y:y+h, x:x+w]\n",
    "    img = cv.cvtColor(dst, cv.COLOR_BGR2RGB)\n",
    "    img = Image.fromarray(img)\n",
    "    print(img.size, end='\\r')\n",
    "    img.save(f'/Users/lisann/Desktop/2024-2025/VAR/RAE/var_extensions/curling_pipeline/notebooks/calibresult/{i}.png')\n",
    "    "
   ]
  },
  {
   "cell_type": "code",
   "execution_count": 65,
   "id": "3b3a3176",
   "metadata": {},
   "outputs": [
    {
     "data": {
      "text/plain": [
       "(array([[572.46246338,   0.        , 638.74817042],\n",
       "        [  0.        , 575.39581299, 410.9380638 ],\n",
       "        [  0.        ,   0.        ,   1.        ]]),\n",
       " array([[572.91005966,   0.        , 639.24762227],\n",
       "        [  0.        , 576.11595282, 411.45237124],\n",
       "        [  0.        ,   0.        ,   1.        ]]))"
      ]
     },
     "execution_count": 65,
     "metadata": {},
     "output_type": "execute_result"
    }
   ],
   "source": [
    "newcameramtx, mtx"
   ]
  }
 ],
 "metadata": {
  "kernelspec": {
   "display_name": "Python 3",
   "language": "python",
   "name": "python3"
  },
  "language_info": {
   "codemirror_mode": {
    "name": "ipython",
    "version": 2
   },
   "file_extension": ".py",
   "mimetype": "text/x-python",
   "name": "python",
   "nbconvert_exporter": "python",
   "pygments_lexer": "ipython2",
   "version": "2.7.6"
  }
 },
 "nbformat": 4,
 "nbformat_minor": 5
}
