{
 "cells": [
  {
   "cell_type": "code",
   "execution_count": 23,
   "metadata": {},
   "outputs": [
    {
     "name": "stdout",
     "output_type": "stream",
     "text": [
      "Number of keypoints: 128\n",
      "Loaded 128 keypoints and 128 descriptors for frame_0000\n",
      "5 sample Keypoints: [x, y, scale, orientation] \n",
      " [[ 4.0590130e+01  2.0747987e-38  2.4804729e+01 -3.5830009e+00]\n",
      " [ 5.4456128e+02  6.2653938e+01  2.2956706e-38  2.4218735e+01]\n",
      " [-5.3122315e+00  5.4456128e+02  6.2653938e+01  2.2956706e-38]\n",
      " [ 2.4218735e+01 -3.3239183e+00  4.0976184e+02  2.5699390e+02]\n",
      " [ 1.4389019e-38  2.2769594e+01 -9.3949968e-01  4.0976184e+02]]\n"
     ]
    }
   ],
   "source": [
    "import numpy as np\n",
    "\n",
    "def load_sift_binary(file_path):\n",
    "    try:\n",
    "        with open(file_path, 'rb') as f:\n",
    "            # Skip the header (16 bytes)\n",
    "            f.seek(16)\n",
    "\n",
    "            # Read the number of keypoints\n",
    "            num_keypoints = np.fromfile(f, dtype=np.int32, count=1)[0]\n",
    "            print(f\"Number of keypoints: {num_keypoints}\")\n",
    "\n",
    "            # Skip extra bytes after the keypoint count (the next 64 bytes)\n",
    "            extra_data_size = 64\n",
    "            f.seek(extra_data_size, 1)  # Skip the extra data after the keypoint count\n",
    "            \n",
    "            # Read keypoints (x, y, scale, orientation)\n",
    "            keypoints = np.fromfile(f, dtype=np.float32, count=num_keypoints * 4).reshape(-1, 4)\n",
    "\n",
    "            # Read descriptors (128-dimensional vector for each keypoint)\n",
    "            descriptors = np.fromfile(f, dtype=np.float32, count=num_keypoints * 128).reshape(-1, 128)\n",
    "\n",
    "            return keypoints, descriptors\n",
    "    except ValueError as e:\n",
    "        print(f\"Error processing the binary file: {e}\")\n",
    "        return None, None\n",
    "\n",
    "# Path to the binary .sift file\n",
    "file_path = 'frame_0000.sift'\n",
    "\n",
    "# Load the data\n",
    "keypoints, descriptors = load_sift_binary(file_path)\n",
    "\n",
    "if keypoints is not None and descriptors is not None:\n",
    "    print(f\"Loaded {len(keypoints)} keypoints and {len(descriptors)} descriptors for {file_path[:-5]}\")\n",
    "    print(\"5 sample Keypoints: [x, y, scale, orientation] \\n\", keypoints[:5])  # Print the first 5 keypoints\n",
    "    # print(\"Sample Descriptors:\\n\", descriptors[:1])  # Print the first 5 descriptors\n"
   ]
  },
  {
   "cell_type": "code",
   "execution_count": 25,
   "metadata": {},
   "outputs": [
    {
     "ename": "AttributeError",
     "evalue": "module 'cv2.xfeatures2d' has no attribute 'readSIFT'",
     "output_type": "error",
     "traceback": [
      "\u001b[1;31m---------------------------------------------------------------------------\u001b[0m",
      "\u001b[1;31mAttributeError\u001b[0m                            Traceback (most recent call last)",
      "Cell \u001b[1;32mIn[25], line 2\u001b[0m\n\u001b[0;32m      1\u001b[0m \u001b[38;5;28;01mimport\u001b[39;00m \u001b[38;5;21;01mcv2\u001b[39;00m\n\u001b[1;32m----> 2\u001b[0m \u001b[43mcv2\u001b[49m\u001b[38;5;241;43m.\u001b[39;49m\u001b[43mxfeatures2d\u001b[49m\u001b[38;5;241;43m.\u001b[39;49m\u001b[43mreadSIFT\u001b[49m(file_path)\n",
      "\u001b[1;31mAttributeError\u001b[0m: module 'cv2.xfeatures2d' has no attribute 'readSIFT'"
     ]
    }
   ],
   "source": [
    "import cv2\n",
    "cv2.xfeatures2d.readSIFT(file_path)"
   ]
  }
 ],
 "metadata": {
  "kernelspec": {
   "display_name": "Python 3",
   "language": "python",
   "name": "python3"
  },
  "language_info": {
   "codemirror_mode": {
    "name": "ipython",
    "version": 3
   },
   "file_extension": ".py",
   "mimetype": "text/x-python",
   "name": "python",
   "nbconvert_exporter": "python",
   "pygments_lexer": "ipython3",
   "version": "3.12.7"
  }
 },
 "nbformat": 4,
 "nbformat_minor": 2
}
