{
 "cells": [
  {
   "cell_type": "markdown",
   "metadata": {},
   "source": [
    "## 2. Create 2D Occupancy grid"
   ]
  },
  {
   "cell_type": "code",
   "execution_count": 1,
   "metadata": {},
   "outputs": [
    {
     "name": "stdout",
     "output_type": "stream",
     "text": [
      "Jupyter environment detected. Enabling Open3D WebVisualizer.\n",
      "[Open3D INFO] WebRTC GUI backend enabled.\n",
      "[Open3D INFO] WebRTCWindowSystem: HTTP handshake server disabled.\n"
     ]
    }
   ],
   "source": [
    "import open3d as o3d\n",
    "import numpy as np"
   ]
  },
  {
   "cell_type": "code",
   "execution_count": 2,
   "metadata": {},
   "outputs": [],
   "source": [
    "# Step 1: Load the PLY file\n",
    "point_cloud = o3d.io.read_point_cloud(\"filtered_pointcloud_week1_notebook.ply\") #week 1 maze\n"
   ]
  },
  {
   "cell_type": "code",
   "execution_count": null,
   "metadata": {},
   "outputs": [],
   "source": [
    "\"\"\" Visualise filtered point cloud\"\"\"\n",
    "o3d.visualization.draw_geometries([point_cloud]) "
   ]
  },
  {
   "cell_type": "code",
   "execution_count": 3,
   "metadata": {},
   "outputs": [
    {
     "name": "stdout",
     "output_type": "stream",
     "text": [
      "[-5.19326019  0.         -9.71401978]\n"
     ]
    }
   ],
   "source": [
    "\"\"\"flatten z coordinates\"\"\"\n",
    "point_cloud_np = np.asarray(point_cloud.points) \n",
    "# point_cloud_np = point_cloud_np[:, [0,2]] #removes z dimension\n",
    "point_cloud_np[:, 1] = 0 # sets z dimension to 0\n",
    "\n",
    "print(point_cloud_np[0, :])"
   ]
  },
  {
   "cell_type": "code",
   "execution_count": 4,
   "metadata": {},
   "outputs": [],
   "source": [
    "\"\"\"Show flattened maze\"\"\"\n",
    "flattened_pc = o3d.geometry.PointCloud()\n",
    "flattened_pc.points = o3d.utility.Vector3dVector(point_cloud_np)\n",
    "\n",
    "o3d.visualization.draw_geometries([flattened_pc]) "
   ]
  },
  {
   "cell_type": "markdown",
   "metadata": {},
   "source": [
    "### Create Grid"
   ]
  },
  {
   "cell_type": "code",
   "execution_count": 21,
   "metadata": {},
   "outputs": [
    {
     "name": "stdout",
     "output_type": "stream",
     "text": [
      "Grid shape: (85, 65)\n"
     ]
    }
   ],
   "source": [
    "import numpy as np\n",
    "\n",
    "# Indices: y at 0, z at 1, x at 2.\n",
    "# only use x and y\n",
    "\n",
    "y_coords = point_cloud_np[:, 0]\n",
    "x_coords = point_cloud_np[:, 2]\n",
    "\n",
    "resolution = 0.2 # grid size\n",
    "\n",
    "# min and max points\n",
    "x_min, x_max = np.min(x_coords), np.max(x_coords)\n",
    "y_min, y_max = np.min(y_coords), np.max(y_coords)\n",
    "\n",
    "# Compute the size of the grid\n",
    "x_size = int(np.ceil((x_max - x_min) / resolution))\n",
    "y_size = int(np.ceil((y_max - y_min) / resolution))\n",
    "\n",
    "\n",
    "#count number of points per grid cell\n",
    "count_grid = np.zeros((y_size, x_size), dtype=np.int32)\n",
    "for i in range(len(x_coords)):\n",
    "    # Translate coordinates to grid indices\n",
    "    x_idx = int((x_coords[i] - x_min) / resolution)\n",
    "    y_idx = int((y_coords[i] - y_min) / resolution)\n",
    "    count_grid[y_idx, x_idx] += 1\n",
    "\n",
    "\n",
    "#if more points in cell than threshold, mark as occupied\n",
    "threshold = 5\n",
    "grid = np.zeros_like(count_grid, dtype=np.uint8)\n",
    "grid[count_grid >= threshold] = 1 #initialise grid, 0 = free, 1 = occupied\n",
    "\n",
    "\n",
    "print(\"Grid shape:\", grid.shape)\n"
   ]
  },
  {
   "cell_type": "code",
   "execution_count": null,
   "metadata": {},
   "outputs": [
    {
     "data": {
      "image/png": "[encoded data removed]",
      "text/plain": [
       "<Figure size 640x480 with 1 Axes>"
      ]
     },
     "metadata": {},
     "output_type": "display_data"
    }
   ],
   "source": [
    "import matplotlib.pyplot as plt\n",
    "\n",
    "plt.imshow(grid, cmap='gray', origin='lower')\n",
    "plt.xlabel('X cells')\n",
    "plt.ylabel('Y cells')\n",
    "plt.title('2D Grid')\n",
    "plt.show()\n",
    "\n",
    "#TODO need to rotate to the left right after loading the point cloud (in filter_keypoints)\n"
   ]
  }
 ],
 "metadata": {
  "kernelspec": {
   "display_name": "ros_env",
   "language": "python",
   "name": "python3"
  },
  "language_info": {
   "codemirror_mode": {
    "name": "ipython",
    "version": 3
   },
   "file_extension": ".py",
   "mimetype": "text/x-python",
   "name": "python",
   "nbconvert_exporter": "python",
   "pygments_lexer": "ipython3",
   "version": "3.11.10"
  }
 },
 "nbformat": 4,
 "nbformat_minor": 2
}
