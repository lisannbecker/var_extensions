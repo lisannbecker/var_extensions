{
 "cells": [
  {
   "cell_type": "markdown",
   "metadata": {},
   "source": [
    "### Filtering manually and statistically\n",
    "manual deletions in meshlab might still be better"
   ]
  },
  {
   "cell_type": "code",
   "execution_count": 1,
   "metadata": {},
   "outputs": [
    {
     "name": "stdout",
     "output_type": "stream",
     "text": [
      "Jupyter environment detected. Enabling Open3D WebVisualizer.\n",
      "[Open3D INFO] WebRTC GUI backend enabled.\n",
      "[Open3D INFO] WebRTCWindowSystem: HTTP handshake server disabled.\n"
     ]
    }
   ],
   "source": [
    "import open3d as o3d\n",
    "import numpy as np"
   ]
  },
  {
   "cell_type": "code",
   "execution_count": 132,
   "metadata": {},
   "outputs": [
    {
     "name": "stdout",
     "output_type": "stream",
     "text": [
      "succeeded\n"
     ]
    }
   ],
   "source": [
    "# Step 1: Load the PLY file\n",
    "point_cloud = o3d.io.read_point_cloud(\"../session_1/vsfm_matches_full/reconstruct_dense_full.0.ply\") #week 1 maze\n",
    "print('succeeded')"
   ]
  },
  {
   "cell_type": "code",
   "execution_count": 9,
   "metadata": {},
   "outputs": [],
   "source": [
    "\"\"\"Beautiful visualisation\"\"\"\n",
    "o3d.visualization.draw_geometries([point_cloud]) "
   ]
  },
  {
   "cell_type": "code",
   "execution_count": null,
   "metadata": {},
   "outputs": [
    {
     "name": "stdout",
     "output_type": "stream",
     "text": [
      "Shape:  (117207, 3)\n",
      "First point:  [-11.54759979 -14.52369976 -14.12819958]\n"
     ]
    }
   ],
   "source": [
    "\"\"\"Transform to np and inspect\"\"\"\n",
    "point_cloud_np = np.asarray(point_cloud.points) \n",
    "print('Shape: ', point_cloud_np.shape)\n",
    "print('First point: ', point_cloud_np[0, :])\n",
    "\n"
   ]
  },
  {
   "cell_type": "code",
   "execution_count": null,
   "metadata": {},
   "outputs": [],
   "source": [
    "\"\"\"1. Filter manually\"\"\"\n",
    "# Filter z (dimension 1)\n",
    "z_upper = 0\n",
    "z_lower = -2.0 #removes ceiling points\n",
    "filtered_points = point_cloud_np[(point_cloud_np[:, 1] < z_upper) & (point_cloud_np[:, 1] > z_lower)]\n",
    "\n",
    "# Filter y (dimension 0)\n",
    "y_upper + 4.8\n",
    "y_lower = -13\n",
    "filtered_points = filtered_points[(filtered_points[:, 0] < y_upper) & (filtered_points[:, 0] > y_lower)]\n",
    "\n",
    "# Filter x (dimension 2)\n",
    "x_upper = 3\n",
    "x_lower = -11.6\n",
    "filtered_points = filtered_points[(filtered_points[:, 2] < x_upper) & (filtered_points[:, 2] > x_lower)]"
   ]
  },
  {
   "cell_type": "code",
   "execution_count": null,
   "metadata": {},
   "outputs": [],
   "source": [
    "\"\"\"Visualise\"\"\"\n",
    "# transform to open3d pc again\n",
    "filtered_pcd = o3d.geometry.PointCloud()\n",
    "filtered_pcd.points = o3d.utility.Vector3dVector(filtered_points)\n",
    "\n",
    "o3d.visualization.draw_geometries([filtered_pcd]) "
   ]
  },
  {
   "cell_type": "code",
   "execution_count": null,
   "metadata": {},
   "outputs": [],
   "source": [
    "\"\"\"2. Filter out isolated points / outliers with o3d function\"\"\"\n",
    "pcd = o3d.geometry.PointCloud()\n",
    "pcd.points = o3d.utility.Vector3dVector(filtered_points)\n",
    "\n",
    "### statistical outlier filtering\n",
    "pcd_clean, ind = pcd.remove_statistical_outlier(nb_neighbors=10, std_ratio=2.0)\n",
    "# nb_neighbors: Number of neighbors considered \n",
    "# Points further away than mean distance + std_ratio*std_dev are considered outliers\n",
    "\n",
    "\n",
    "\n",
    "### radius filtering << didnt use\n",
    "#pcd_clean, ind = pcd.remove_radius_outlier(nb_points=5, radius=0.1)\n",
    "# radius: radius to consider for the neighbors\n",
    "# min_points: minimum number of neighbors required within that radius\n",
    "\n",
    "o3d.visualization.draw_geometries([pcd_clean])"
   ]
  },
  {
   "cell_type": "code",
   "execution_count": null,
   "metadata": {},
   "outputs": [
    {
     "data": {
      "text/plain": [
       "True"
      ]
     },
     "execution_count": 133,
     "metadata": {},
     "output_type": "execute_result"
    }
   ],
   "source": [
    "\"\"\"Save filtered pointcloud\"\"\"\n",
    "o3d.io.write_point_cloud(\"filtered_pointcloud_week1.ply\", pcd_clean)"
   ]
  },
  {
   "cell_type": "markdown",
   "metadata": {},
   "source": [
    "### Dump"
   ]
  },
  {
   "cell_type": "markdown",
   "metadata": {},
   "source": [
    "Means / Max / Min Values"
   ]
  },
  {
   "cell_type": "code",
   "execution_count": null,
   "metadata": {},
   "outputs": [],
   "source": [
    "print('Means x y z')\n",
    "print(np.mean(point_cloud_np[:, 2]))\n",
    "print(np.mean(point_cloud_np[:, 0]))\n",
    "print(np.mean(point_cloud_np[:, 1]))\n",
    "\n",
    "\n",
    "print('\\nMax x y z')\n",
    "print(np.max(point_cloud_np[:, 2]))\n",
    "print(np.max(point_cloud_np[:, 0]))\n",
    "print(np.max(point_cloud_np[:, 1]))\n",
    "\n",
    "\n",
    "print('\\nMin x y z')\n",
    "print(np.min(point_cloud_np[:, 2]))\n",
    "print(np.min(point_cloud_np[:, 0]))\n",
    "print(np.min(point_cloud_np[:, 1]))\n"
   ]
  }
 ],
 "metadata": {
  "kernelspec": {
   "display_name": "ros_env",
   "language": "python",
   "name": "python3"
  },
  "language_info": {
   "codemirror_mode": {
    "name": "ipython",
    "version": 3
   },
   "file_extension": ".py",
   "mimetype": "text/x-python",
   "name": "python",
   "nbconvert_exporter": "python",
   "pygments_lexer": "ipython3",
   "version": "3.11.10"
  }
 },
 "nbformat": 4,
 "nbformat_minor": 2
}
