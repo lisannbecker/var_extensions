{
 "cells": [
  {
   "cell_type": "markdown",
   "metadata": {},
   "source": [
    "### Filtering manually and statistically (Step 1)\n",
    "manual deletions in meshlab might still be better"
   ]
  },
  {
   "cell_type": "code",
   "execution_count": 33,
   "metadata": {},
   "outputs": [],
   "source": [
    "import open3d as o3d\n",
    "import numpy as np"
   ]
  },
  {
   "cell_type": "code",
   "execution_count": 34,
   "metadata": {},
   "outputs": [
    {
     "name": "stdout",
     "output_type": "stream",
     "text": [
      "succeeded\n"
     ]
    }
   ],
   "source": [
    "# Step 1: Load the PLY file\n",
    "point_cloud = o3d.io.read_point_cloud(\"original_maze.ply\") #week 1 maze\n",
    "print('succeeded')"
   ]
  },
  {
   "cell_type": "code",
   "execution_count": 40,
   "metadata": {},
   "outputs": [],
   "source": [
    "\"\"\"visualise\"\"\"\n",
    "# Add axis\n",
    "axpoints = o3d.utility.Vector3dVector([[0, 0, 0], [1, 0, 0], [0, 1, 0]])\n",
    "axis = o3d.geometry.TriangleMesh.create_coordinate_frame(\n",
    "    size=10, origin=[0, 0, 0]\n",
    ")\n",
    "\n",
    "# Maze coord system: X-red, Y-green, Z-blue\n",
    "# Global coord system: X-blue, Y-red, Z-green\n",
    "#Show\n",
    "o3d.visualization.draw_geometries([point_cloud,axis]) "
   ]
  },
  {
   "cell_type": "code",
   "execution_count": 39,
   "metadata": {},
   "outputs": [
    {
     "name": "stdout",
     "output_type": "stream",
     "text": [
      "Shape:  (117207, 3)\n",
      "First point:  [-11.54759979 -14.52369976 -14.12819958]\n"
     ]
    }
   ],
   "source": [
    "\"\"\"Transform to np and inspect\"\"\"\n",
    "point_cloud_np = np.asarray(point_cloud.points) \n",
    "print('Shape: ', point_cloud_np.shape)\n",
    "print('First point: ', point_cloud_np[0, :])\n"
   ]
  },
  {
   "cell_type": "markdown",
   "metadata": {},
   "source": [
    "Analysis"
   ]
  },
  {
   "cell_type": "code",
   "execution_count": 37,
   "metadata": {},
   "outputs": [
    {
     "name": "stdout",
     "output_type": "stream",
     "text": [
      "X\n",
      "mean -2.8372596370975196\n",
      "std 4.397610378525984\n",
      "max 20.4419002532959\n",
      "min -20.409099578857422\n",
      "\n",
      "Y\n",
      "mean -3.494563178628163\n",
      "std 6.153619353848993\n",
      "max 18.94409942626953\n",
      "min -31.097999572753906\n",
      "\n",
      "Z\n",
      "mean -2.612891753537297\n",
      "std 3.9294963400404943\n",
      "max 0.3499389886856079\n",
      "min -25.049999237060547\n"
     ]
    }
   ],
   "source": [
    "print(\"X\")\n",
    "x=point_cloud_np[:, 2]\n",
    "print(\"mean\",np.mean(x))\n",
    "print(\"std\", np.std(x))\n",
    "print(\"max\",np.max(x))\n",
    "print(\"min\",np.min(x))\n",
    "print(\"\")\n",
    "\n",
    "print(\"Y\")\n",
    "y=point_cloud_np[:, 0]\n",
    "print(\"mean\",np.mean(y))\n",
    "print(\"std\", np.std(y))\n",
    "print(\"max\",np.max(y))\n",
    "print(\"min\",np.min(y))\n",
    "print(\"\")\n",
    "\n",
    "\n",
    "print(\"Z\")\n",
    "z=point_cloud_np[:, 1]\n",
    "print(\"mean\",np.mean(z))\n",
    "print(\"std\", np.std(z))\n",
    "print(\"max\",np.max(z))\n",
    "print(\"min\",np.min(z))\n"
   ]
  },
  {
   "cell_type": "code",
   "execution_count": null,
   "metadata": {},
   "outputs": [],
   "source": [
    "\"\"\"1. Filter manually\"\"\"\n",
    "# Filter z (dimension 1)\n",
    "z_upper = 0\n",
    "z_lower = -2.0 #removes ceiling points\n",
    "filtered_points = point_cloud_np[(point_cloud_np[:, 1] < z_upper) & (point_cloud_np[:, 1] > z_lower)]\n",
    "\n",
    "# # Filter y (dimension 0)\n",
    "# y_upper = 4.8\n",
    "# y_lower = -13\n",
    "# filtered_points = filtered_points[(filtered_points[:, 0] < y_upper) & (filtered_points[:, 0] > y_lower)]\n",
    "\n",
    "# # Filter x (dimension 2)\n",
    "# x_upper = 3\n",
    "# x_lower = -11.6\n",
    "# filtered_points = filtered_points[(filtered_points[:, 2] < x_upper) & (filtered_points[:, 2] > x_lower)]"
   ]
  },
  {
   "cell_type": "code",
   "execution_count": 38,
   "metadata": {},
   "outputs": [],
   "source": [
    "\"\"\"Visualise\"\"\"\n",
    "# transform to open3d pc again\n",
    "filtered_pcd = o3d.geometry.PointCloud()\n",
    "filtered_pcd.points = o3d.utility.Vector3dVector(filtered_points)\n",
    "\n",
    "o3d.visualization.draw_geometries([filtered_pcd]) "
   ]
  },
  {
   "cell_type": "code",
   "execution_count": 42,
   "metadata": {},
   "outputs": [],
   "source": [
    "\"\"\"2. Filter out isolated points / outliers with o3d function\"\"\"\n",
    "pcd = o3d.geometry.PointCloud()\n",
    "pcd.points = o3d.utility.Vector3dVector(filtered_points)\n",
    "\n",
    "### statistical outlier filtering\n",
    "pcd_clean, ind = pcd.remove_statistical_outlier(nb_neighbors=10, std_ratio=2.0)\n",
    "# nb_neighbors: Number of neighbors considered \n",
    "# Points further away than mean distance + std_ratio*std_dev are considered outliers\n",
    "\n",
    "\n",
    "\n",
    "### radius filtering << didnt use\n",
    "#pcd_clean, ind = pcd.remove_radius_outlier(nb_points=5, radius=0.1)\n",
    "# radius: radius to consider for the neighbors\n",
    "# min_points: minimum number of neighbors required within that radius\n",
    "\n",
    "o3d.visualization.draw_geometries([pcd_clean])"
   ]
  },
  {
   "cell_type": "code",
   "execution_count": 43,
   "metadata": {},
   "outputs": [
    {
     "data": {
      "text/plain": [
       "True"
      ]
     },
     "execution_count": 43,
     "metadata": {},
     "output_type": "execute_result"
    }
   ],
   "source": [
    "\"\"\"Save filtered pointcloud\"\"\"\n",
    "o3d.io.write_point_cloud(\"filtered_pointcloud_week1.ply\", pcd_clean)"
   ]
  }
 ],
 "metadata": {
  "kernelspec": {
   "display_name": "base",
   "language": "python",
   "name": "python3"
  },
  "language_info": {
   "codemirror_mode": {
    "name": "ipython",
    "version": 3
   },
   "file_extension": ".py",
   "mimetype": "text/x-python",
   "name": "python",
   "nbconvert_exporter": "python",
   "pygments_lexer": "ipython3",
   "version": "3.11.8"
  }
 },
 "nbformat": 4,
 "nbformat_minor": 2
}
