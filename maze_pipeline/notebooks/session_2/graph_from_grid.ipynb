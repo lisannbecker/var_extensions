{
 "cells": [
  {
   "cell_type": "markdown",
   "metadata": {},
   "source": [
    "## 3. Create Graph from 2D Occupancy Grid\n",
    "Prepare for Dijkstera\n",
    "\n",
    "Necessary?"
   ]
  }
 ],
 "metadata": {
  "language_info": {
   "name": "python"
  }
 },
 "nbformat": 4,
 "nbformat_minor": 2
}
