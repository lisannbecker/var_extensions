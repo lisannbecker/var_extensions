{
 "cells": [
  {
   "cell_type": "code",
   "execution_count": 4,
   "metadata": {},
   "outputs": [],
   "source": [
    "import open3d as o3d\n",
    "import numpy as np"
   ]
  },
  {
   "cell_type": "code",
   "execution_count": 5,
   "metadata": {},
   "outputs": [
    {
     "name": "stdout",
     "output_type": "stream",
     "text": [
      "succeeded\n"
     ]
    }
   ],
   "source": [
    "# Step 1: Load the PLY file\n",
    "point_cloud = o3d.io.read_point_cloud(\"../session_1/vsfm_matches_full/reconstruct_dense_full.0.ply\") #week 1 maze\n",
    "print('succeeded')\n"
   ]
  },
  {
   "cell_type": "code",
   "execution_count": 6,
   "metadata": {},
   "outputs": [],
   "source": [
    "\"\"\"Beautiful visualisation\"\"\"\n",
    "o3d.visualization.draw_geometries([point_cloud]) "
   ]
  },
  {
   "cell_type": "code",
   "execution_count": null,
   "metadata": {},
   "outputs": [
    {
     "name": "stdout",
     "output_type": "stream",
     "text": [
      "(117207, 3)\n",
      "[-11.54759979 -14.52369976 -14.12819958]\n",
      "(117207, 2)\n",
      "[-11.54759979 -14.52369976]\n"
     ]
    }
   ],
   "source": [
    "point_cloud_in_numpy = np.asarray(point_cloud.points) \n",
    "print(point_cloud_in_numpy.shape)\n",
    "print(point_cloud_in_numpy[0, :])\n"
   ]
  },
  {
   "cell_type": "code",
   "execution_count": null,
   "metadata": {},
   "outputs": [],
   "source": [
    "#2d only, exclude z coordinates (presumes filtered keypoints)\n",
    "point_cloud_in_numpy = point_cloud_in_numpy[:, :2]\n",
    "print(point_cloud_in_numpy.shape)\n",
    "print(point_cloud_in_numpy[0, :])"
   ]
  }
 ],
 "metadata": {
  "kernelspec": {
   "display_name": "ros_env",
   "language": "python",
   "name": "python3"
  },
  "language_info": {
   "codemirror_mode": {
    "name": "ipython",
    "version": 3
   },
   "file_extension": ".py",
   "mimetype": "text/x-python",
   "name": "python",
   "nbconvert_exporter": "python",
   "pygments_lexer": "ipython3",
   "version": "3.11.10"
  }
 },
 "nbformat": 4,
 "nbformat_minor": 2
}
