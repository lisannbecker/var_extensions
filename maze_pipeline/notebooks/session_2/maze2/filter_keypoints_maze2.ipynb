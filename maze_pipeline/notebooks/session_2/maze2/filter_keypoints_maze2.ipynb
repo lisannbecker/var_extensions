{
 "cells": [
  {
   "cell_type": "markdown",
   "metadata": {},
   "source": [
    "### Filtering manually and statistically (Step 1)\n",
    "manual deletions in meshlab might still be better"
   ]
  },
  {
   "cell_type": "code",
   "execution_count": 4,
   "metadata": {},
   "outputs": [
    {
     "name": "stdout",
     "output_type": "stream",
     "text": [
      "Jupyter environment detected. Enabling Open3D WebVisualizer.\n",
      "[Open3D INFO] WebRTC GUI backend enabled.\n",
      "[Open3D INFO] WebRTCWindowSystem: HTTP handshake server disabled.\n"
     ]
    }
   ],
   "source": [
    "import open3d as o3d\n",
    "import numpy as np"
   ]
  },
  {
   "cell_type": "code",
   "execution_count": 5,
   "metadata": {},
   "outputs": [
    {
     "name": "stdout",
     "output_type": "stream",
     "text": [
      "succeeded\n"
     ]
    }
   ],
   "source": [
    "# Step 1: Load the PLY file\n",
    "point_cloud = o3d.io.read_point_cloud(\"dense_maze2_vid1.0.ply\") #week 1 maze\n",
    "print('succeeded')"
   ]
  },
  {
   "cell_type": "code",
   "execution_count": 4,
   "metadata": {},
   "outputs": [],
   "source": [
    "o3d.visualization.draw_geometries([point_cloud]) "
   ]
  },
  {
   "cell_type": "code",
   "execution_count": 5,
   "metadata": {},
   "outputs": [
    {
     "ename": "",
     "evalue": "",
     "output_type": "error",
     "traceback": [
      "\u001b[1;31mThe Kernel crashed while executing code in the current cell or a previous cell. \n",
      "\u001b[1;31mPlease review the code in the cell(s) to identify a possible cause of the failure. \n",
      "\u001b[1;31mClick <a href='https://aka.ms/vscodeJupyterKernelCrash'>here</a> for more info. \n",
      "\u001b[1;31mView Jupyter <a href='command:jupyter.viewOutput'>log</a> for further details."
     ]
    }
   ],
   "source": [
    "\"\"\"visualise\"\"\"\n",
    "# Add axis\n",
    "axpoints = o3d.utility.Vector3dVector([[0, 0, 0], [1, 0, 0], [0, 1, 0]])\n",
    "axis = o3d.geometry.TriangleMesh.create_coordinate_frame(\n",
    "    size=10, origin=[0, 0, 0]\n",
    ")\n",
    "\n",
    "# Maze coord system: X-red, Y-green, Z-blue\n",
    "# Global coord system: X-blue, Y-red, Z-green\n",
    "#Show\n",
    "o3d.visualization.draw_geometries([point_cloud,axis]) "
   ]
  },
  {
   "cell_type": "code",
   "execution_count": 10,
   "metadata": {},
   "outputs": [
    {
     "name": "stdout",
     "output_type": "stream",
     "text": [
      "Shape:  (1354969, 3)\n",
      "First point:  [  22.64030075 -388.94900513  744.36401367]\n"
     ]
    }
   ],
   "source": [
    "\"\"\"Transform to np and inspect\"\"\"\n",
    "point_cloud_np = np.asarray(point_cloud.points) \n",
    "print('Shape: ', point_cloud_np.shape)\n",
    "print('First point: ', point_cloud_np[0, :])\n"
   ]
  },
  {
   "cell_type": "markdown",
   "metadata": {},
   "source": [
    "Analysis"
   ]
  },
  {
   "cell_type": "code",
   "execution_count": 7,
   "metadata": {},
   "outputs": [
    {
     "name": "stdout",
     "output_type": "stream",
     "text": [
      "X\n",
      "mean 771.9247780269158\n",
      "std 255.2889864492842\n",
      "max 2722.449951171875\n",
      "min -799.7979736328125\n",
      "\n",
      "Y\n",
      "mean -278.9846202153612\n",
      "std 241.92960301952183\n",
      "max 1145.6300048828125\n",
      "min -1862.3800048828125\n",
      "\n",
      "Z\n",
      "mean -65.69069134097202\n",
      "std 120.17658822727785\n",
      "max 12.607199668884277\n",
      "min -2081.52001953125\n"
     ]
    }
   ],
   "source": [
    "print(\"X\")\n",
    "x=point_cloud_np[:, 2]\n",
    "print(\"mean\",np.mean(x))\n",
    "print(\"std\", np.std(x))\n",
    "print(\"max\",np.max(x))\n",
    "print(\"min\",np.min(x))\n",
    "print(\"\")\n",
    "\n",
    "print(\"Y\")\n",
    "y=point_cloud_np[:, 0]\n",
    "print(\"mean\",np.mean(y))\n",
    "print(\"std\", np.std(y))\n",
    "print(\"max\",np.max(y))\n",
    "print(\"min\",np.min(y))\n",
    "print(\"\")\n",
    "\n",
    "\n",
    "print(\"Z\")\n",
    "z=point_cloud_np[:, 1]\n",
    "print(\"mean\",np.mean(z))\n",
    "print(\"std\", np.std(z))\n",
    "print(\"max\",np.max(z))\n",
    "print(\"min\",np.min(z))\n"
   ]
  },
  {
   "cell_type": "code",
   "execution_count": 76,
   "metadata": {},
   "outputs": [],
   "source": [
    "\"\"\"1. Filter manually\"\"\"\n",
    "# Filter z (dimension 1)\n",
    "z_upper = -30\n",
    "z_lower = -100 #removes ceiling points\n",
    "filtered_points = point_cloud_np[(point_cloud_np[:, 1] < z_upper) & (point_cloud_np[:, 1] > z_lower)]\n",
    "\n",
    "# Filter y (dimension 0)\n",
    "y_upper = 80\n",
    "y_lower = -780\n",
    "filtered_points = filtered_points[(filtered_points[:, 0] < y_upper) & (filtered_points[:, 0] > y_lower)]\n",
    "\n",
    "# Filter x (dimension 2)\n",
    "x_upper = 1200\n",
    "x_lower = 100\n",
    "filtered_points = filtered_points[(filtered_points[:, 2] < x_upper) & (filtered_points[:, 2] > x_lower)]"
   ]
  },
  {
   "cell_type": "code",
   "execution_count": 77,
   "metadata": {},
   "outputs": [],
   "source": [
    "\"\"\"Visualise\"\"\"\n",
    "# transform to open3d pc again\n",
    "filtered_pcd = o3d.geometry.PointCloud()\n",
    "filtered_pcd.points = o3d.utility.Vector3dVector(filtered_points)\n",
    "\n",
    "o3d.visualization.draw_geometries([filtered_pcd]) "
   ]
  },
  {
   "cell_type": "code",
   "execution_count": 104,
   "metadata": {},
   "outputs": [],
   "source": [
    "\"\"\"2. Filter out isolated points / outliers with o3d function\"\"\"\n",
    "pcd = o3d.geometry.PointCloud()\n",
    "pcd.points = o3d.utility.Vector3dVector(filtered_points)\n",
    "\n",
    "### statistical outlier filtering\n",
    "pcd_clean, ind = pcd.remove_statistical_outlier(nb_neighbors=1200, std_ratio=2)\n",
    "# nb_neighbors: Number of neighbors considered \n",
    "# Points further away than mean distance + std_ratio*std_dev are considered outliers"
   ]
  },
  {
   "cell_type": "code",
   "execution_count": 51,
   "metadata": {},
   "outputs": [],
   "source": [
    "### radius filtering << didnt use\n",
    "#pcd_clean, ind = pcd.remove_radius_outlier(nb_points=5, radius=1)\n",
    "# radius: radius to consider for the neighbors\n",
    "# min_points: minimum number of neighbors required within that radius"
   ]
  },
  {
   "cell_type": "code",
   "execution_count": 107,
   "metadata": {},
   "outputs": [],
   "source": [
    "o3d.visualization.draw_geometries([pcd_clean])"
   ]
  },
  {
   "cell_type": "code",
   "execution_count": 106,
   "metadata": {},
   "outputs": [
    {
     "data": {
      "text/plain": [
       "True"
      ]
     },
     "execution_count": 106,
     "metadata": {},
     "output_type": "execute_result"
    }
   ],
   "source": [
    "\"\"\"Save filtered pointcloud\"\"\"\n",
    "o3d.io.write_point_cloud(\"filtered_pointcloud_maze2.ply\", pcd_clean)"
   ]
  }
 ],
 "metadata": {
  "kernelspec": {
   "display_name": "ros_env",
   "language": "python",
   "name": "python3"
  },
  "language_info": {
   "codemirror_mode": {
    "name": "ipython",
    "version": 3
   },
   "file_extension": ".py",
   "mimetype": "text/x-python",
   "name": "python",
   "nbconvert_exporter": "python",
   "pygments_lexer": "ipython3",
   "version": "3.11.10"
  }
 },
 "nbformat": 4,
 "nbformat_minor": 2
}
