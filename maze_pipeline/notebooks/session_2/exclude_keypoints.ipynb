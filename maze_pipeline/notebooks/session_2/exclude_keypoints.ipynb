{
 "cells": [
  {
   "cell_type": "code",
   "execution_count": null,
   "metadata": {},
   "outputs": [],
   "source": [
    "\"\"\"Session 2: Remove the Keypoints away from the Maze\"\"\""
   ]
  },
  {
   "cell_type": "markdown",
   "metadata": {},
   "source": [
    "### 1. Based on real-world maze measures"
   ]
  },
  {
   "cell_type": "code",
   "execution_count": null,
   "metadata": {},
   "outputs": [],
   "source": [
    "\n",
    "# 0. Load keypoints from VisualSFM\n",
    "from scipy.io import loadmat\n",
    "\n",
    "keypoints = loadmat('somePath.mat')"
   ]
  },
  {
   "cell_type": "code",
   "execution_count": null,
   "metadata": {},
   "outputs": [],
   "source": [
    "# 1. Define bounds of the maze\n",
    "\n",
    "#TODO measure maze length width height for now; whats the origin of the maze? << maybe need to center keypoints first\n",
    "#maze mesures height: 253 cm wall length, 334 cm; 60.5 cm\n",
    "#maybe sufficient to only remove z outliers << also to the bottom (i.e., remove keypoints that are grass)\n",
    "\n",
    "maze_bounds = {\n",
    "    'x_min': , 'x_max': ,\n",
    "    'y_min': , 'y_max': ,\n",
    "    'z_min': 0, 'z_max': 605\n",
    "}\n"
   ]
  },
  {
   "cell_type": "code",
   "execution_count": null,
   "metadata": {},
   "outputs": [],
   "source": [
    "# 2. Filter out points where one or more of x, y, z are not in maze bounds\n",
    "\n",
    "keypoints_filtered = []\n",
    "\n",
    "for point in keypoints:\n",
    "    x, y, z = point\n",
    "    if (maze_bounds['x_min'] <= x <= maze_bounds['x_max'] and maze_bounds['y_min'] <= y <= maze_bounds['y_max'] and maze_bounds['z_min'] <= z <= maze_bounds['z_max']):\n",
    "        keypoints_filtered.append(point)"
   ]
  },
  {
   "cell_type": "code",
   "execution_count": null,
   "metadata": {},
   "outputs": [],
   "source": [
    "#3. Save filtered keypoints\n",
    "\n",
    "from scipy.io import savemat\n",
    "savemat('filtered_keypoints.mat', {'keypoints': keypoints_filtered})"
   ]
  },
  {
   "cell_type": "markdown",
   "metadata": {},
   "source": [
    "### 2. RANSAC"
   ]
  },
  {
   "cell_type": "code",
   "execution_count": null,
   "metadata": {},
   "outputs": [],
   "source": []
  },
  {
   "cell_type": "code",
   "execution_count": null,
   "metadata": {},
   "outputs": [],
   "source": [
    "#4. Visualise TODO but not required"
   ]
  }
 ],
 "metadata": {
  "kernelspec": {
   "display_name": "ros_env",
   "language": "python",
   "name": "python3"
  },
  "language_info": {
   "name": "python",
   "version": "3.11.8"
  }
 },
 "nbformat": 4,
 "nbformat_minor": 2
}
